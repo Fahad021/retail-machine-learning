{
 "cells": [
  {
   "cell_type": "code",
   "execution_count": 1,
   "id": "coated-trust",
   "metadata": {},
   "outputs": [],
   "source": [
    "# Alpha Vantage\n",
    "API_KEY = \"699WB0Z3TAB6C0JN\"\n"
   ]
  },
  {
   "cell_type": "code",
   "execution_count": 2,
   "id": "marked-dealer",
   "metadata": {},
   "outputs": [],
   "source": [
    "# Holiday API\n",
    "Holiday_API = '034bed290a26dbbfcabab23c94da543267f267ff'"
   ]
  },
  {
   "cell_type": "code",
   "execution_count": null,
   "id": "miniature-india",
   "metadata": {},
   "outputs": [],
   "source": [
    "#Elephant SQL DB Connection String\n",
    "\n",
    "connectionString =\"//ofiglsqd:vVojrG9_zzJZCOLXz8rhKWXk6ivvYqAe@otto.db.elephantsql.com:5432/ofiglsqd\""
   ]
  }
 ],
 "metadata": {
  "kernelspec": {
   "display_name": "Python 3",
   "language": "python",
   "name": "python3"
  },
  "language_info": {
   "codemirror_mode": {
    "name": "ipython",
    "version": 3
   },
   "file_extension": ".py",
   "mimetype": "text/x-python",
   "name": "python",
   "nbconvert_exporter": "python",
   "pygments_lexer": "ipython3",
   "version": "3.8.3"
  }
 },
 "nbformat": 4,
 "nbformat_minor": 5
}
