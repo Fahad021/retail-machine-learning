{
 "cells": [
  {
   "cell_type": "code",
   "execution_count": 3,
   "metadata": {},
   "outputs": [],
   "source": [
    "#Install fbprophet (if not already installed)\n",
    "#Code should be disabled after first run\n",
    "\n",
    "#!conda install -c conda-forge fbprophet -y"
   ]
  },
  {
   "cell_type": "code",
   "execution_count": 4,
   "metadata": {},
   "outputs": [],
   "source": [
    "#Upgrade plotly after installing fbprophet\n",
    "#Code should be disabled after first run\n",
    "\n",
    "#!pip install --upgrade plotly"
   ]
  },
  {
   "cell_type": "code",
   "execution_count": 2,
   "metadata": {},
   "outputs": [
    {
     "name": "stdout",
     "output_type": "stream",
     "text": [
      "Requirement already satisfied: pystan in c:\\users\\mayla\\anaconda3\\lib\\site-packages (2.18.0.0)\n",
      "Requirement already satisfied: Cython!=0.25.1,>=0.22 in c:\\users\\mayla\\anaconda3\\lib\\site-packages (from pystan) (0.29.21)\n",
      "Requirement already satisfied: numpy>=1.7 in c:\\users\\mayla\\anaconda3\\lib\\site-packages (from pystan) (1.18.5)\n"
     ]
    }
   ],
   "source": [
    "!pip install pystan"
   ]
  },
  {
   "cell_type": "code",
   "execution_count": 3,
   "metadata": {},
   "outputs": [
    {
     "name": "stdout",
     "output_type": "stream",
     "text": [
      "Requirement already satisfied: fbprophet in c:\\users\\mayla\\anaconda3\\lib\\site-packages (0.7.1)\n",
      "Requirement already satisfied: numpy>=1.15.4 in c:\\users\\mayla\\anaconda3\\lib\\site-packages (from fbprophet) (1.18.5)\n",
      "Collecting cmdstanpy==0.9.5\n",
      "  Downloading cmdstanpy-0.9.5-py3-none-any.whl (37 kB)\n",
      "Requirement already satisfied: pystan>=2.14 in c:\\users\\mayla\\anaconda3\\lib\\site-packages (from fbprophet) (2.18.0.0)\n",
      "Requirement already satisfied: convertdate>=2.1.2 in c:\\users\\mayla\\anaconda3\\lib\\site-packages (from fbprophet) (2.3.1)\n",
      "Requirement already satisfied: matplotlib>=2.0.0 in c:\\users\\mayla\\anaconda3\\lib\\site-packages (from fbprophet) (3.2.2)\n",
      "Requirement already satisfied: pandas>=1.0.4 in c:\\users\\mayla\\anaconda3\\lib\\site-packages (from fbprophet) (1.0.5)\n",
      "Requirement already satisfied: LunarCalendar>=0.0.9 in c:\\users\\mayla\\anaconda3\\lib\\site-packages (from fbprophet) (0.0.9)\n",
      "Requirement already satisfied: tqdm>=4.36.1 in c:\\users\\mayla\\anaconda3\\lib\\site-packages (from fbprophet) (4.47.0)\n",
      "Requirement already satisfied: Cython>=0.22 in c:\\users\\mayla\\anaconda3\\lib\\site-packages (from fbprophet) (0.29.21)\n",
      "Requirement already satisfied: holidays>=0.10.2 in c:\\users\\mayla\\anaconda3\\lib\\site-packages (from fbprophet) (0.10.5.2)\n",
      "Collecting setuptools-git>=1.2\n",
      "  Downloading setuptools_git-1.2-py2.py3-none-any.whl (10 kB)\n",
      "Requirement already satisfied: python-dateutil>=2.8.0 in c:\\users\\mayla\\anaconda3\\lib\\site-packages (from fbprophet) (2.8.1)\n",
      "Requirement already satisfied: pytz>=2014.10 in c:\\users\\mayla\\anaconda3\\lib\\site-packages (from convertdate>=2.1.2->fbprophet) (2020.1)\n",
      "Requirement already satisfied: pymeeus!=0.3.8,<=1,>=0.3.6 in c:\\users\\mayla\\anaconda3\\lib\\site-packages (from convertdate>=2.1.2->fbprophet) (0.5.9)\n",
      "Requirement already satisfied: kiwisolver>=1.0.1 in c:\\users\\mayla\\anaconda3\\lib\\site-packages (from matplotlib>=2.0.0->fbprophet) (1.2.0)\n",
      "Requirement already satisfied: cycler>=0.10 in c:\\users\\mayla\\anaconda3\\lib\\site-packages (from matplotlib>=2.0.0->fbprophet) (0.10.0)\n",
      "Requirement already satisfied: pyparsing!=2.0.4,!=2.1.2,!=2.1.6,>=2.0.1 in c:\\users\\mayla\\anaconda3\\lib\\site-packages (from matplotlib>=2.0.0->fbprophet) (2.4.7)\n",
      "Requirement already satisfied: ephem>=3.7.5.3 in c:\\users\\mayla\\anaconda3\\lib\\site-packages (from LunarCalendar>=0.0.9->fbprophet) (3.7.7.1)\n",
      "Requirement already satisfied: six in c:\\users\\mayla\\anaconda3\\lib\\site-packages (from holidays>=0.10.2->fbprophet) (1.15.0)\n",
      "Requirement already satisfied: korean-lunar-calendar in c:\\users\\mayla\\anaconda3\\lib\\site-packages (from holidays>=0.10.2->fbprophet) (0.2.1)\n",
      "Requirement already satisfied: hijri-converter in c:\\users\\mayla\\anaconda3\\lib\\site-packages (from holidays>=0.10.2->fbprophet) (2.1.1)\n",
      "Installing collected packages: cmdstanpy, setuptools-git\n",
      "Successfully installed cmdstanpy-0.9.5 setuptools-git-1.2\n"
     ]
    }
   ],
   "source": [
    "!pip install fbprophet"
   ]
  },
  {
   "cell_type": "code",
   "execution_count": 5,
   "metadata": {},
   "outputs": [
    {
     "name": "stdout",
     "output_type": "stream",
     "text": [
      "Collecting wordcloud\n",
      "  Downloading wordcloud-1.8.1-cp38-cp38-win_amd64.whl (155 kB)\n",
      "Requirement already satisfied: matplotlib in c:\\users\\mayla\\anaconda3\\lib\\site-packages (from wordcloud) (3.2.2)\n",
      "Requirement already satisfied: pillow in c:\\users\\mayla\\anaconda3\\lib\\site-packages (from wordcloud) (7.2.0)\n",
      "Requirement already satisfied: numpy>=1.6.1 in c:\\users\\mayla\\anaconda3\\lib\\site-packages (from wordcloud) (1.18.5)\n",
      "Requirement already satisfied: cycler>=0.10 in c:\\users\\mayla\\anaconda3\\lib\\site-packages (from matplotlib->wordcloud) (0.10.0)\n",
      "Requirement already satisfied: kiwisolver>=1.0.1 in c:\\users\\mayla\\anaconda3\\lib\\site-packages (from matplotlib->wordcloud) (1.2.0)\n",
      "Requirement already satisfied: pyparsing!=2.0.4,!=2.1.2,!=2.1.6,>=2.0.1 in c:\\users\\mayla\\anaconda3\\lib\\site-packages (from matplotlib->wordcloud) (2.4.7)\n",
      "Requirement already satisfied: python-dateutil>=2.1 in c:\\users\\mayla\\anaconda3\\lib\\site-packages (from matplotlib->wordcloud) (2.8.1)\n",
      "Requirement already satisfied: six in c:\\users\\mayla\\anaconda3\\lib\\site-packages (from cycler>=0.10->matplotlib->wordcloud) (1.15.0)\n",
      "Installing collected packages: wordcloud\n",
      "Successfully installed wordcloud-1.8.1\n",
      "Note: you may need to restart the kernel to use updated packages.\n"
     ]
    }
   ],
   "source": [
    "pip install wordcloud"
   ]
  },
  {
   "cell_type": "code",
   "execution_count": 8,
   "metadata": {},
   "outputs": [],
   "source": [
    "import pandas as pd\n",
    "from fbprophet import Prophet\n",
    "import matplotlib.pyplot as plt\n",
    "import numpy as np\n",
    "import seaborn as sns\n",
    "import wordcloud\n",
    "# from alphaVantageAPI.alphavantage import AlphaVantage "
   ]
  },
  {
   "cell_type": "code",
   "execution_count": 9,
   "metadata": {},
   "outputs": [
    {
     "data": {
      "text/html": [
       "<div>\n",
       "<style scoped>\n",
       "    .dataframe tbody tr th:only-of-type {\n",
       "        vertical-align: middle;\n",
       "    }\n",
       "\n",
       "    .dataframe tbody tr th {\n",
       "        vertical-align: top;\n",
       "    }\n",
       "\n",
       "    .dataframe thead th {\n",
       "        text-align: right;\n",
       "    }\n",
       "</style>\n",
       "<table border=\"1\" class=\"dataframe\">\n",
       "  <thead>\n",
       "    <tr style=\"text-align: right;\">\n",
       "      <th></th>\n",
       "      <th>Date</th>\n",
       "      <th>Open</th>\n",
       "      <th>High</th>\n",
       "      <th>Low</th>\n",
       "      <th>Close</th>\n",
       "      <th>Adj Close</th>\n",
       "      <th>Volume</th>\n",
       "    </tr>\n",
       "  </thead>\n",
       "  <tbody>\n",
       "    <tr>\n",
       "      <th>0</th>\n",
       "      <td>1972-08-25</td>\n",
       "      <td>0.063477</td>\n",
       "      <td>0.064697</td>\n",
       "      <td>0.063477</td>\n",
       "      <td>0.064453</td>\n",
       "      <td>0.037027</td>\n",
       "      <td>2508800</td>\n",
       "    </tr>\n",
       "    <tr>\n",
       "      <th>1</th>\n",
       "      <td>1972-08-28</td>\n",
       "      <td>0.064453</td>\n",
       "      <td>0.064941</td>\n",
       "      <td>0.064209</td>\n",
       "      <td>0.064209</td>\n",
       "      <td>0.036887</td>\n",
       "      <td>972800</td>\n",
       "    </tr>\n",
       "    <tr>\n",
       "      <th>2</th>\n",
       "      <td>1972-08-29</td>\n",
       "      <td>0.063965</td>\n",
       "      <td>0.063965</td>\n",
       "      <td>0.063477</td>\n",
       "      <td>0.063477</td>\n",
       "      <td>0.036466</td>\n",
       "      <td>1945600</td>\n",
       "    </tr>\n",
       "    <tr>\n",
       "      <th>3</th>\n",
       "      <td>1972-08-30</td>\n",
       "      <td>0.063477</td>\n",
       "      <td>0.063477</td>\n",
       "      <td>0.062988</td>\n",
       "      <td>0.063477</td>\n",
       "      <td>0.036466</td>\n",
       "      <td>409600</td>\n",
       "    </tr>\n",
       "    <tr>\n",
       "      <th>4</th>\n",
       "      <td>1972-08-31</td>\n",
       "      <td>0.062988</td>\n",
       "      <td>0.062988</td>\n",
       "      <td>0.062500</td>\n",
       "      <td>0.062500</td>\n",
       "      <td>0.035905</td>\n",
       "      <td>870400</td>\n",
       "    </tr>\n",
       "  </tbody>\n",
       "</table>\n",
       "</div>"
      ],
      "text/plain": [
       "         Date      Open      High       Low     Close  Adj Close   Volume\n",
       "0  1972-08-25  0.063477  0.064697  0.063477  0.064453   0.037027  2508800\n",
       "1  1972-08-28  0.064453  0.064941  0.064209  0.064209   0.036887   972800\n",
       "2  1972-08-29  0.063965  0.063965  0.063477  0.063477   0.036466  1945600\n",
       "3  1972-08-30  0.063477  0.063477  0.062988  0.063477   0.036466   409600\n",
       "4  1972-08-31  0.062988  0.062988  0.062500  0.062500   0.035905   870400"
      ]
     },
     "execution_count": 9,
     "metadata": {},
     "output_type": "execute_result"
    }
   ],
   "source": [
    "df = pd.read_csv('data/WMT.csv')\n",
    "df.head()"
   ]
  },
  {
   "cell_type": "code",
   "execution_count": 10,
   "metadata": {},
   "outputs": [
    {
     "data": {
      "text/html": [
       "<div>\n",
       "<style scoped>\n",
       "    .dataframe tbody tr th:only-of-type {\n",
       "        vertical-align: middle;\n",
       "    }\n",
       "\n",
       "    .dataframe tbody tr th {\n",
       "        vertical-align: top;\n",
       "    }\n",
       "\n",
       "    .dataframe thead th {\n",
       "        text-align: right;\n",
       "    }\n",
       "</style>\n",
       "<table border=\"1\" class=\"dataframe\">\n",
       "  <thead>\n",
       "    <tr style=\"text-align: right;\">\n",
       "      <th></th>\n",
       "      <th>Open</th>\n",
       "      <th>High</th>\n",
       "      <th>Low</th>\n",
       "      <th>Close</th>\n",
       "      <th>Adj Close</th>\n",
       "      <th>Volume</th>\n",
       "    </tr>\n",
       "  </thead>\n",
       "  <tbody>\n",
       "    <tr>\n",
       "      <th>count</th>\n",
       "      <td>12242.000000</td>\n",
       "      <td>12242.000000</td>\n",
       "      <td>12242.000000</td>\n",
       "      <td>12242.000000</td>\n",
       "      <td>12242.000000</td>\n",
       "      <td>1.224200e+04</td>\n",
       "    </tr>\n",
       "    <tr>\n",
       "      <th>mean</th>\n",
       "      <td>33.323517</td>\n",
       "      <td>33.640010</td>\n",
       "      <td>33.008329</td>\n",
       "      <td>33.329019</td>\n",
       "      <td>27.098417</td>\n",
       "      <td>7.527616e+06</td>\n",
       "    </tr>\n",
       "    <tr>\n",
       "      <th>std</th>\n",
       "      <td>34.336433</td>\n",
       "      <td>34.632807</td>\n",
       "      <td>34.052622</td>\n",
       "      <td>34.342539</td>\n",
       "      <td>31.485295</td>\n",
       "      <td>6.279231e+06</td>\n",
       "    </tr>\n",
       "    <tr>\n",
       "      <th>min</th>\n",
       "      <td>0.015625</td>\n",
       "      <td>0.015625</td>\n",
       "      <td>0.014404</td>\n",
       "      <td>0.015625</td>\n",
       "      <td>0.009031</td>\n",
       "      <td>0.000000e+00</td>\n",
       "    </tr>\n",
       "    <tr>\n",
       "      <th>25%</th>\n",
       "      <td>1.332031</td>\n",
       "      <td>1.352540</td>\n",
       "      <td>1.320313</td>\n",
       "      <td>1.335938</td>\n",
       "      <td>0.836820</td>\n",
       "      <td>3.835650e+06</td>\n",
       "    </tr>\n",
       "    <tr>\n",
       "      <th>50%</th>\n",
       "      <td>14.843750</td>\n",
       "      <td>14.937500</td>\n",
       "      <td>14.687500</td>\n",
       "      <td>14.875000</td>\n",
       "      <td>9.767956</td>\n",
       "      <td>6.278500e+06</td>\n",
       "    </tr>\n",
       "    <tr>\n",
       "      <th>75%</th>\n",
       "      <td>55.240002</td>\n",
       "      <td>55.933124</td>\n",
       "      <td>54.637499</td>\n",
       "      <td>55.250000</td>\n",
       "      <td>40.818146</td>\n",
       "      <td>9.515550e+06</td>\n",
       "    </tr>\n",
       "    <tr>\n",
       "      <th>max</th>\n",
       "      <td>153.600006</td>\n",
       "      <td>153.660004</td>\n",
       "      <td>151.660004</td>\n",
       "      <td>152.789993</td>\n",
       "      <td>152.233536</td>\n",
       "      <td>1.318336e+08</td>\n",
       "    </tr>\n",
       "  </tbody>\n",
       "</table>\n",
       "</div>"
      ],
      "text/plain": [
       "               Open          High           Low         Close     Adj Close  \\\n",
       "count  12242.000000  12242.000000  12242.000000  12242.000000  12242.000000   \n",
       "mean      33.323517     33.640010     33.008329     33.329019     27.098417   \n",
       "std       34.336433     34.632807     34.052622     34.342539     31.485295   \n",
       "min        0.015625      0.015625      0.014404      0.015625      0.009031   \n",
       "25%        1.332031      1.352540      1.320313      1.335938      0.836820   \n",
       "50%       14.843750     14.937500     14.687500     14.875000      9.767956   \n",
       "75%       55.240002     55.933124     54.637499     55.250000     40.818146   \n",
       "max      153.600006    153.660004    151.660004    152.789993    152.233536   \n",
       "\n",
       "             Volume  \n",
       "count  1.224200e+04  \n",
       "mean   7.527616e+06  \n",
       "std    6.279231e+06  \n",
       "min    0.000000e+00  \n",
       "25%    3.835650e+06  \n",
       "50%    6.278500e+06  \n",
       "75%    9.515550e+06  \n",
       "max    1.318336e+08  "
      ]
     },
     "execution_count": 10,
     "metadata": {},
     "output_type": "execute_result"
    }
   ],
   "source": [
    "df.describe()"
   ]
  },
  {
   "cell_type": "code",
   "execution_count": 11,
   "metadata": {},
   "outputs": [
    {
     "data": {
      "text/html": [
       "<div>\n",
       "<style scoped>\n",
       "    .dataframe tbody tr th:only-of-type {\n",
       "        vertical-align: middle;\n",
       "    }\n",
       "\n",
       "    .dataframe tbody tr th {\n",
       "        vertical-align: top;\n",
       "    }\n",
       "\n",
       "    .dataframe thead th {\n",
       "        text-align: right;\n",
       "    }\n",
       "</style>\n",
       "<table border=\"1\" class=\"dataframe\">\n",
       "  <thead>\n",
       "    <tr style=\"text-align: right;\">\n",
       "      <th></th>\n",
       "      <th>ds</th>\n",
       "      <th>y</th>\n",
       "    </tr>\n",
       "  </thead>\n",
       "  <tbody>\n",
       "    <tr>\n",
       "      <th>0</th>\n",
       "      <td>1972-08-25</td>\n",
       "      <td>0.064453</td>\n",
       "    </tr>\n",
       "    <tr>\n",
       "      <th>1</th>\n",
       "      <td>1972-08-28</td>\n",
       "      <td>0.064209</td>\n",
       "    </tr>\n",
       "    <tr>\n",
       "      <th>2</th>\n",
       "      <td>1972-08-29</td>\n",
       "      <td>0.063477</td>\n",
       "    </tr>\n",
       "    <tr>\n",
       "      <th>3</th>\n",
       "      <td>1972-08-30</td>\n",
       "      <td>0.063477</td>\n",
       "    </tr>\n",
       "    <tr>\n",
       "      <th>4</th>\n",
       "      <td>1972-08-31</td>\n",
       "      <td>0.062500</td>\n",
       "    </tr>\n",
       "  </tbody>\n",
       "</table>\n",
       "</div>"
      ],
      "text/plain": [
       "           ds         y\n",
       "0  1972-08-25  0.064453\n",
       "1  1972-08-28  0.064209\n",
       "2  1972-08-29  0.063477\n",
       "3  1972-08-30  0.063477\n",
       "4  1972-08-31  0.062500"
      ]
     },
     "execution_count": 11,
     "metadata": {},
     "output_type": "execute_result"
    }
   ],
   "source": [
    "# Select only the important features i.e. the date and price\n",
    "data = df[[\"Date\",\"Close\"]] # select Date and Price\n",
    "# Rename the features: These names are NEEDED for the model fitting\n",
    "datePrice = data.rename(columns = {\"Date\":\"ds\",\"Close\":\"y\"}) #renaming the columns of the dataset\n",
    "datePrice.head(5)"
   ]
  },
  {
   "cell_type": "code",
   "execution_count": null,
   "metadata": {},
   "outputs": [
    {
     "name": "stderr",
     "output_type": "stream",
     "text": [
      "INFO:numexpr.utils:NumExpr defaulting to 8 threads.\n",
      "INFO:fbprophet:Disabling daily seasonality. Run prophet with daily_seasonality=True to override this.\n"
     ]
    },
    {
     "ename": "KeyError",
     "evalue": "'metric_file'",
     "output_type": "error",
     "traceback": [
      "\u001b[1;31m---------------------------------------------------------------------------\u001b[0m",
      "\u001b[1;31mKeyError\u001b[0m                                  Traceback (most recent call last)",
      "\u001b[1;31mKeyError\u001b[0m: 'metric_file'"
     ]
    },
    {
     "name": "stderr",
     "output_type": "stream",
     "text": [
      "Exception ignored in: 'stanfit4anon_model_f5236004a3fd5b8429270d00efcc0cf9_9045703871880297330._set_stanargs_from_dict'\n",
      "Traceback (most recent call last):\n",
      "  File \"C:\\Users\\mayla\\anaconda3\\lib\\site-packages\\pystan\\model.py\", line 550, in optimizing\n",
      "    ret, sample = fit._call_sampler(stan_args)\n",
      "KeyError: 'metric_file'\n"
     ]
    }
   ],
   "source": [
    "from fbprophet import Prophet\n",
    "model = Prophet()\n",
    "model.fit(datePrice)\n",
    "datePrice.tail()"
   ]
  },
  {
   "cell_type": "code",
   "execution_count": null,
   "metadata": {},
   "outputs": [],
   "source": [
    "future_df = model.make_future_dataframe(periods=365)\n",
    "future_df"
   ]
  },
  {
   "cell_type": "code",
   "execution_count": null,
   "metadata": {},
   "outputs": [],
   "source": []
  }
 ],
 "metadata": {
  "kernelspec": {
   "display_name": "Python 3",
   "language": "python",
   "name": "python3"
  },
  "language_info": {
   "codemirror_mode": {
    "name": "ipython",
    "version": 3
   },
   "file_extension": ".py",
   "mimetype": "text/x-python",
   "name": "python",
   "nbconvert_exporter": "python",
   "pygments_lexer": "ipython3",
   "version": "3.8.3"
  }
 },
 "nbformat": 4,
 "nbformat_minor": 4
}
